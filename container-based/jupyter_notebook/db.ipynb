{
 "cells": [
  {
   "cell_type": "markdown",
   "metadata": {},
   "source": [
    "![](architecture.png)"
   ]
  },
  {
   "cell_type": "markdown",
   "metadata": {},
   "source": [
    "## Test connection with MongoDB"
   ]
  },
  {
   "cell_type": "code",
   "execution_count": null,
   "metadata": {},
   "outputs": [],
   "source": [
    "from pymongo import MongoClient\n",
    "\n",
    "client = MongoClient('mongo-db',27017)\n",
    "db = client.mongo\n",
    "db.test.insert_one({\"key1\": \"value1\", \"key2\": \"value2\"})"
   ]
  },
  {
   "cell_type": "code",
   "execution_count": null,
   "metadata": {},
   "outputs": [],
   "source": [
    "from pymongo import MongoClient\n",
    "\n",
    "client = MongoClient('mongo-db',27017)\n",
    "db = client.mongo\n",
    "for key_value in db.test.find():\n",
    "    print(key_value)"
   ]
  },
  {
   "cell_type": "markdown",
   "metadata": {},
   "source": [
    "## Test connection with PostgreSQL"
   ]
  },
  {
   "cell_type": "code",
   "execution_count": null,
   "metadata": {},
   "outputs": [],
   "source": [
    "import psycopg2\n",
    "conn = psycopg2.connect(\"dbname='postgres' user='postgres' host='postgres-db' password='postgres'\")\n",
    "cur = conn.cursor()\n",
    "cur.execute(\"CREATE TABLE test (id serial PRIMARY KEY, name varchar, location varchar, type varchar, value real);\")\n",
    "cur.execute(\"INSERT INTO test (name, location, type, value) VALUES (%s, %s, %s, %s)\", (\"sensor1\", \"wykan\", \"humidity\", 5.1))\n",
    "conn.commit()\n",
    "cur.close()\n",
    "conn.close()"
   ]
  },
  {
   "cell_type": "code",
   "execution_count": null,
   "metadata": {},
   "outputs": [],
   "source": [
    "import psycopg2\n",
    "conn = psycopg2.connect(\"dbname='postgres' user='postgres' host='postgres-db' password='postgres'\")\n",
    "cur = conn.cursor()\n",
    "cur.execute(\"SELECT * FROM test;\")\n",
    "cur.fetchone()"
   ]
  },
  {
   "cell_type": "markdown",
   "metadata": {},
   "source": [
    "## Check sensor data is going into MongoDB\n",
    "#### (Populated via: mosquitto_pub -t sensors -m '{\"name\": \"sensor1\", \"value\": 5.1}'"
   ]
  },
  {
   "cell_type": "code",
   "execution_count": null,
   "metadata": {},
   "outputs": [],
   "source": [
    "from pymongo import MongoClient\n",
    "\n",
    "client = MongoClient('mongo-db',27017)\n",
    "db = client.sensor\n",
    "for sensor in db.sensors.find():\n",
    "    print(sensor)"
   ]
  }
 ],
 "metadata": {
  "kernelspec": {
   "display_name": "Python 3",
   "language": "python",
   "name": "python3"
  },
  "language_info": {
   "codemirror_mode": {
    "name": "ipython",
    "version": 3
   },
   "file_extension": ".py",
   "mimetype": "text/x-python",
   "name": "python",
   "nbconvert_exporter": "python",
   "pygments_lexer": "ipython3",
   "version": "3.6.8"
  }
 },
 "nbformat": 4,
 "nbformat_minor": 2
}
